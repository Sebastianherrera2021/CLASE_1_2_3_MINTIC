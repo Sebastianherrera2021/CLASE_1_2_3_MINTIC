{
 "cells": [
  {
   "cell_type": "markdown",
   "metadata": {},
   "source": [
    "## REPASO PYTHON CLASE 2 DE PROGRAMACION"
   ]
  },
  {
   "cell_type": "code",
   "execution_count": 1,
   "metadata": {},
   "outputs": [],
   "source": [
    "a = [\"Sergio\",\"Andres\"]"
   ]
  },
  {
   "cell_type": "code",
   "execution_count": 4,
   "metadata": {},
   "outputs": [
    {
     "name": "stdout",
     "output_type": "stream",
     "text": [
      "<class 'list'>\n",
      "['Sergio', 'Andres']\n"
     ]
    }
   ],
   "source": [
    "print(type(a))\n",
    "print(a)\n"
   ]
  },
  {
   "cell_type": "markdown",
   "metadata": {},
   "source": [
    "### OPERACIONES NORMALES"
   ]
  },
  {
   "cell_type": "code",
   "execution_count": 51,
   "metadata": {},
   "outputs": [
    {
     "name": "stdout",
     "output_type": "stream",
     "text": [
      "3.5\n",
      "3\n",
      "1\n",
      "17\n"
     ]
    }
   ],
   "source": [
    "print(7/2) # La division\n",
    "print(7//2) # Toma la parte entera\n",
    "print(7%2) # Es el modulo\n",
    "print(7+5*2) # Primero se multiplica y despues se suma"
   ]
  },
  {
   "cell_type": "code",
   "execution_count": 3,
   "metadata": {},
   "outputs": [
    {
     "name": "stdout",
     "output_type": "stream",
     "text": [
      "El area es:  12.5\n"
     ]
    }
   ],
   "source": [
    "# Input para entradas\n",
    "# Output para salidas\n",
    "# Entrada\n",
    "base = float(input(\"Ingrese base: \"))\n",
    "altura = float(input(\"Ingrese altura: \"))\n",
    "# Proceso\n",
    "area = (base*altura)/2\n",
    "# Salida\n",
    "print(\"El area es: \",area)"
   ]
  },
  {
   "cell_type": "code",
   "execution_count": 11,
   "metadata": {},
   "outputs": [
    {
     "name": "stdout",
     "output_type": "stream",
     "text": [
      "Nota definitiva: 4.00\n"
     ]
    }
   ],
   "source": [
    "nota_1 = float(input(\"Ingrese nota 1: \"))\n",
    "nota_2 = float(input(\"Ingrese nota 2: \"))\n",
    "nota_3 = float(input(\"Ingrese nota 3: \"))\n",
    "nota_4 = float(input(\"Ingrese nota 4: \"))\n",
    "nota_5 = float(input(\"Ingrese nota 5: \"))\n",
    "nota_ingles = float(input(\"Nota ingles: \"))\n",
    "nota_final = nota_1*0.1 + nota_2*0.1 + nota_3*0.2 + nota_4*0.2 + nota_5*0.2 + nota_ingles*0.2\n",
    "\n",
    "print(\"Nota definitiva: {:.2f}\".format(nota_final))\n"
   ]
  },
  {
   "cell_type": "markdown",
   "metadata": {},
   "source": [
    "### CONDICIONALES"
   ]
  },
  {
   "cell_type": "code",
   "execution_count": 13,
   "metadata": {},
   "outputs": [
    {
     "name": "stdout",
     "output_type": "stream",
     "text": [
      "False\n",
      "True\n"
     ]
    }
   ],
   "source": [
    "print(2<3 and 5>5)\n",
    "print(2<3 or 7>5)"
   ]
  },
  {
   "cell_type": "markdown",
   "metadata": {},
   "source": [
    "### IF / ELIF"
   ]
  },
  {
   "cell_type": "code",
   "execution_count": 23,
   "metadata": {},
   "outputs": [
    {
     "name": "stdout",
     "output_type": "stream",
     "text": [
      "Nombre empleado  juan\n",
      "Salario:  200.00\n",
      "subsidio de transporte:  120,000.00\n"
     ]
    }
   ],
   "source": [
    "# Condicional simple\n",
    "nombre = input(\"Ingrese nombre: \")\n",
    "salario = float(input(\"Ingrese salario: \"))\n",
    "\n",
    "if salario<= 1000000: #proceso a ejecutar despues\n",
    "    subsidio = 120000\n",
    "else:\n",
    "    subsidio = 0\n",
    "\n",
    "print(\"Nombre empleado \", nombre)\n",
    "print(\"Salario: \", '{:,.2f}'.format(salario))\n",
    "print(\"subsidio de transporte: \", '{:,.2f}'.format(subsidio)) \n"
   ]
  },
  {
   "cell_type": "code",
   "execution_count": 29,
   "metadata": {},
   "outputs": [
    {
     "name": "stdout",
     "output_type": "stream",
     "text": [
      "Nombre del estudiante:  juan\n",
      "Evaluacion Cuantitativa:  100\n",
      "Evaluacion Cualitativa:  A\n"
     ]
    }
   ],
   "source": [
    "# Condicional aninado\n",
    "nombre = input(\"Nombre del estudiante: \")\n",
    "eva_cuanti = int(input(\"Ingrese evaluacion cuantitativa: \"))\n",
    "\n",
    "if eva_cuanti <=59:\n",
    "    eva_cualitativa = \"D\"\n",
    "elif eva_cuanti <=79:\n",
    "    eva_cualitativa = \"C\"\n",
    "elif eva_cuanti <= 89:\n",
    "    eva_cualitativa = \"B\"\n",
    "else:\n",
    "    eva_cualitativa = \"A\"\n",
    "print(\"Nombre del estudiante: \",nombre)\n",
    "print(\"Evaluacion Cuantitativa: \", eva_cuanti)\n",
    "print(\"Evaluacion Cualitativa: \", eva_cualitativa)"
   ]
  },
  {
   "cell_type": "markdown",
   "metadata": {},
   "source": [
    "### FOR"
   ]
  },
  {
   "cell_type": "code",
   "execution_count": null,
   "metadata": {},
   "outputs": [
    {
     "name": "stdout",
     "output_type": "stream",
     "text": [
      "0\n",
      "1\n",
      "2\n"
     ]
    }
   ],
   "source": [
    "# Bucle for\n",
    "for i in range(3): #inicia en cero\n",
    "    print(i)"
   ]
  },
  {
   "cell_type": "code",
   "execution_count": null,
   "metadata": {},
   "outputs": [
    {
     "name": "stdout",
     "output_type": "stream",
     "text": [
      "5 25\n",
      "6 36\n",
      "7 49\n",
      "7\n"
     ]
    }
   ],
   "source": [
    "for i in range(5,8): #inicia en 5\n",
    "    print(i,i**2) #potenciacion\n",
    "print(i)"
   ]
  },
  {
   "cell_type": "code",
   "execution_count": null,
   "metadata": {},
   "outputs": [
    {
     "name": "stdout",
     "output_type": "stream",
     "text": [
      "10\n",
      "8\n",
      "6\n",
      "4\n",
      "2\n"
     ]
    }
   ],
   "source": [
    "for i in range(10,0,-2): #inicia en 10, decrece en dos unidades hasta cero sin incluirlo\n",
    "    print(i)"
   ]
  },
  {
   "cell_type": "code",
   "execution_count": 42,
   "metadata": {},
   "outputs": [
    {
     "name": "stdout",
     "output_type": "stream",
     "text": [
      "2\n",
      "2\n",
      "2\n",
      "2\n",
      "2\n",
      "2\n",
      "2\n",
      "2\n",
      "2\n",
      "2\n"
     ]
    }
   ],
   "source": [
    "word = input(\"Introduce una palabra: \")\n",
    "for i in range(10):\n",
    "    print(word)"
   ]
  },
  {
   "cell_type": "code",
   "execution_count": 44,
   "metadata": {},
   "outputs": [
    {
     "name": "stdout",
     "output_type": "stream",
     "text": [
      "Has cumplido 1 anos\n",
      "Has cumplido 2 anos\n",
      "Has cumplido 3 anos\n",
      "Has cumplido 4 anos\n",
      "Has cumplido 5 anos\n",
      "Has cumplido 6 anos\n",
      "Has cumplido 7 anos\n",
      "Has cumplido 8 anos\n",
      "Has cumplido 9 anos\n",
      "Has cumplido 10 anos\n"
     ]
    }
   ],
   "source": [
    "edad = int(input(\"Cual es su edad\"))\n",
    "for i in range(edad):\n",
    "    print(\"Has cumplido \" + str(i+1)+ \" anos\" )"
   ]
  },
  {
   "cell_type": "markdown",
   "metadata": {},
   "source": [
    "#### FOR + ELIF + ELSE"
   ]
  },
  {
   "cell_type": "code",
   "execution_count": 36,
   "metadata": {},
   "outputs": [
    {
     "name": "stdout",
     "output_type": "stream",
     "text": [
      "Nombre usuario:  juan\n",
      "Tarifa basica:  10,000.00\n",
      "Valor consumo:  2,000,000.00\n",
      "Valor a pagar:  2,010,000.00\n"
     ]
    }
   ],
   "source": [
    "N =int(input(\"Cantidad de usuarios: \"))\n",
    "for i in range(N):\n",
    "    codigo = int(input(\"Codigo usuario: \"))\n",
    "    nombre = input(\"Nombre: \")\n",
    "    estado = input(\"Estado (V=Vigente,S=Suspendido): \")\n",
    "    estrato = int(input(\"Estrato (1,2,3,4,5,6): \"))\n",
    "    consumo = float(input(\"Consumo del mes: \"))\n",
    "    if estado ==\"V\":\n",
    "        if estrato == 1:\n",
    "            tarifa_basica = 10000\n",
    "        elif estrato == 2:\n",
    "            tarifa_basica = 20000\n",
    "        elif estrato == 3:\n",
    "            tarifa_basica = 30000\n",
    "        elif estrato == 4:\n",
    "            tarifa_basica = 45000\n",
    "        elif estrato == 5:\n",
    "            tarifa_basica = 60000\n",
    "        else:\n",
    "            tarifa_basica = 70000\n",
    "        valor_consumo = consumo*200\n",
    "        valor_pagar = tarifa_basica+valor_consumo\n",
    "        print(\"Nombre usuario: \", nombre)\n",
    "        print(\"Tarifa basica: \",'{:,.2f}'.format(tarifa_basica))\n",
    "        print(\"Valor consumo: \",'{:,.2f}'.format(valor_consumo))\n",
    "        print(\"Valor a pagar: \",'{:,.2f}'.format(valor_pagar))"
   ]
  },
  {
   "cell_type": "markdown",
   "metadata": {},
   "source": [
    "### WHILE"
   ]
  },
  {
   "cell_type": "code",
   "execution_count": null,
   "metadata": {},
   "outputs": [
    {
     "name": "stdout",
     "output_type": "stream",
     "text": [
      "1  es IMPAR\n",
      "2  es PAR\n",
      "3  es IMPAR\n",
      "4  es PAR\n",
      "5  es IMPAR\n",
      "6  es PAR\n",
      "7  es IMPAR\n",
      "-2  es PAR\n",
      "Cantidad de pares:  4\n",
      "Cantidad de impares:  4\n"
     ]
    }
   ],
   "source": [
    "# Bucle while\n",
    "can_pares = 0\n",
    "can_impares = 0\n",
    "num = int(input(\"Numero entero: \"))\n",
    "while num!=-1: # Cuando sea -1 se acaba el bucle\n",
    "    if num%2 == 0: # El modulo es cero por eso es par\n",
    "        print(num,\" es PAR\")\n",
    "        can_pares+=1 #Va contando\n",
    "    else:\n",
    "        print(num,\" es IMPAR\")\n",
    "        can_impares+=1 # Va contando los impares\n",
    "    num = int(input(\"Numero entero: \")) #Mientras no sea -1 va a seguir preguntando esto\n",
    "print(\"Cantidad de pares: \", can_pares)\n",
    "print(\"Cantidad de impares: \", can_impares)"
   ]
  },
  {
   "cell_type": "markdown",
   "metadata": {},
   "source": [
    "## REPASO PYTHON CLASE 3 DE PROGRAMACION"
   ]
  },
  {
   "cell_type": "markdown",
   "metadata": {},
   "source": [
    "#### LIBRERIAS BASICAS"
   ]
  },
  {
   "cell_type": "code",
   "execution_count": 7,
   "metadata": {},
   "outputs": [
    {
     "name": "stdout",
     "output_type": "stream",
     "text": [
      "90\n",
      "5\n",
      "Raiz cuadrada de  1000 es:  31.622776601683793\n"
     ]
    }
   ],
   "source": [
    "print(max(40,30,5,90,20)) #max\n",
    "print(min(40,30,5,90,20)) #max\n",
    "numeros = [40,30,5,90,20,3] \n",
    "len(numeros) #contar\n",
    "\n",
    "import math #Permite tambien seno, radianes, coseno, tangente, potencia, etc..\n",
    "x = int(input(\"Valor: \"))\n",
    "print(\"Raiz cuadrada de \",x,\"es: \", math.sqrt(x)) #calcula raiz con esa libreria"
   ]
  },
  {
   "cell_type": "markdown",
   "metadata": {},
   "source": [
    "#### LISTAS"
   ]
  },
  {
   "cell_type": "code",
   "execution_count": 29,
   "metadata": {},
   "outputs": [
    {
     "name": "stdout",
     "output_type": "stream",
     "text": [
      "3\n",
      "['Juan', 'Carlos']\n",
      "[2, 4, 6, 8, 10, 12, 14, 16, 18]\n",
      "[2, 3]\n",
      "[10.4, 'Pedro']\n"
     ]
    }
   ],
   "source": [
    "#Listas\n",
    "lista_numeros = [1,2,3,4,5,6]\n",
    "print(lista_numeros[2]) # Poscion 3 -> Arranca en 0,1,2...\n",
    "\n",
    "lista_nombres = [\"Juan\", \"Carlos\", \"Pedro\", \"Luis\"]\n",
    "print(lista_nombres[0:2])\n",
    "\n",
    "lista_pares=list(range(2,20,2))\n",
    "print(lista_pares) #Lista en un intervalo de 2 en 2.\n",
    "\n",
    "lista_elemento = [1, \"Juan\", [2,3], 10.4, \"Pedro\"]\n",
    "print(lista_elemento[2])\n",
    "print(lista_elemento[3:5]) # las dos posiciones nada mas"
   ]
  },
  {
   "cell_type": "code",
   "execution_count": 27,
   "metadata": {},
   "outputs": [
    {
     "name": "stdout",
     "output_type": "stream",
     "text": [
      "Frase:  a\n",
      "Cantidad de palabras:  1\n"
     ]
    }
   ],
   "source": [
    "# Calcular la cantidad de palabras de una frase\n",
    "frase = input(\"Frase: \")\n",
    "print(\"Frase: \", frase)\n",
    "can_palabras = len(frase.split())\n",
    "print(\"Cantidad de palabras: \", can_palabras)"
   ]
  },
  {
   "cell_type": "markdown",
   "metadata": {},
   "source": [
    "#### FORMAS DE INTERACTUAR CON UNA LISTA"
   ]
  },
  {
   "cell_type": "code",
   "execution_count": null,
   "metadata": {},
   "outputs": [
    {
     "name": "stdout",
     "output_type": "stream",
     "text": [
      "2\n",
      "['1', '2', '3', '4', '5', '6']\n",
      "5\n"
     ]
    }
   ],
   "source": [
    "numeros = [1,2,3,4,5,1]\n",
    "print(numeros.count(1))\n",
    "\n",
    "items = \"1,2,3,4,5,6\"\n",
    "print(items.split(\",\")) # Extraer valores que cumplan cierto requisito\n",
    "print(items.split(\",\")[4])"
   ]
  },
  {
   "cell_type": "code",
   "execution_count": null,
   "metadata": {},
   "outputs": [
    {
     "name": "stdout",
     "output_type": "stream",
     "text": [
      "[1, 'Juan', [2, 3], 10.4, 'Pedro']\n",
      "[1, 'Juan', [2, 3], 10.4, 'Pedro', 40]\n",
      "[1, 'Juan', [2, 3], 10.4, 'Pedro', 40, 60, 80]\n",
      "[1, 'Luis', 'Juan', [2, 3], 10.4, 'Pedro', 40, 60, 80]\n",
      "[1, 'Luis', 'Juan', [2, 3], 'Pedro', 40, 60, 80]\n",
      "[1, 'Luis', 'Juan', [2, 3], 40, 60, 80]\n"
     ]
    }
   ],
   "source": [
    "# Append\n",
    "lista = [1, \"Juan\", [2,3], 10.4, \"Pedro\"]\n",
    "print(lista)\n",
    "lista.append(40) #Agrega\n",
    "print(lista)\n",
    "lista.extend([60,80]) #extiende\n",
    "print(lista)\n",
    "lista.insert(1,\"Luis\") #inseta en una posicion especifica\n",
    "print(lista)\n",
    "lista.pop(4) #elimina en tal posicion\n",
    "print(lista)\n",
    "lista.remove(\"Pedro\") #remueve tal nombre en especifico\n",
    "print(lista)"
   ]
  },
  {
   "cell_type": "markdown",
   "metadata": {},
   "source": [
    "#### LISTAS + FOR + WHILE +FORMAS DE INTERACTUAR"
   ]
  },
  {
   "cell_type": "code",
   "execution_count": null,
   "metadata": {},
   "outputs": [
    {
     "name": "stdout",
     "output_type": "stream",
     "text": [
      "Lista nombres:  ['juan sebastian herrera sanchez', 'andrea juliana jauregui']\n",
      "Lista cantidad de palabras:  [1, 1]\n"
     ]
    }
   ],
   "source": [
    "#Ejemplo 1: Cada nombre de la lista\n",
    "lista_nombres = []\n",
    "lista_cantidad = []\n",
    "nombre = input(\"Nombre completo de persona: \")\n",
    "while nombre != \"FIN\": #Condicion para finalizar\n",
    "    lista_nombres.append(nombre) #Ir agregando\n",
    "    nombre = input(\"Nombre completo de persona: \") #Volver a preguntar hasta el FIN de arriba\n",
    "for i in lista_nombres:\n",
    "    cantidad_palabras = len(nombre.split()) #Contar cantidad de nombres\n",
    "    lista_cantidad.append(cantidad_palabras) #Ir agregando el conteo\n",
    "print(\"Lista nombres: \", lista_nombres)\n",
    "print(\"Lista cantidad de nombres: \", lista_cantidad)"
   ]
  },
  {
   "cell_type": "code",
   "execution_count": null,
   "metadata": {},
   "outputs": [
    {
     "name": "stdout",
     "output_type": "stream",
     "text": [
      "Lista nombres:  ['CAMILO JOSE PEREZ', 'JUAN SEBASTAIN HERRERA SANCHEZ']\n",
      "Lista cantidad de palabras:  [3, 4]\n"
     ]
    }
   ],
   "source": [
    "# Ejemplo 2: Contar palabras de cada elemento de una lista de nombres\n",
    "lista_nombres = []\n",
    "lista_cantidad = []\n",
    "nombre = input(\"Nombre completo de persona: \")\n",
    "while nombre != \"FIN\": #Condicion para finalizar\n",
    "    lista_nombres.append(nombre) #Ir agregando\n",
    "    nombre = input(\"Nombre completo de persona: \") #Volver a preguntar hasta el FIN de arriba\n",
    "for i in lista_nombres:\n",
    "    cantidad_palabras = len(i.split()) #Contar cantidad de palabras por nombre\n",
    "    lista_cantidad.append(cantidad_palabras) #Ir agregando el conteo\n",
    "print(\"Lista nombres: \", lista_nombres)\n",
    "print(\"Lista cantidad de palabras: \", lista_cantidad)"
   ]
  },
  {
   "cell_type": "code",
   "execution_count": null,
   "metadata": {},
   "outputs": [
    {
     "name": "stdout",
     "output_type": "stream",
     "text": [
      "Yo estudio Matematicas\n",
      "Yo estudio Fisica\n",
      "Yo estudio Quimica\n",
      "Yo estudio Historia\n",
      "Yo estudio Lengua\n"
     ]
    }
   ],
   "source": [
    "# Ejemplo 3: Concatenar yo estudio con la lista\n",
    "subjects = [\"Matematicas\", \"Fisica\", \"Quimica\", \"Historia\", \"Lengua\"]\n",
    "for subject in subjects:\n",
    "    print(\"Yo estudio \" + subject) #Concatena en la funcion"
   ]
  },
  {
   "cell_type": "code",
   "execution_count": null,
   "metadata": {},
   "outputs": [
    {
     "name": "stdout",
     "output_type": "stream",
     "text": [
      "En Matematicas has sacado 5.0\n",
      "En Fisica has sacado 2.0\n",
      "En Quimica has sacado 2\n",
      "En Historia has sacado 2\n",
      "En Lengua has sacado 2\n"
     ]
    }
   ],
   "source": [
    "#Ejemplo 4: Pregunta en la medida que va recorriendo la lista\n",
    "subjects = [\"Matematicas\", \"Fisica\", \"Quimica\", \"Historia\", \"Lengua\"]\n",
    "scores = []\n",
    "for subject in subjects:\n",
    "    score = input(\"Que nota has sacado en \" + subject + \"?\")\n",
    "    scores.append(score)\n",
    "for i in range(len(subjects)):\n",
    "    print(\"En \"+ subjects[i] + \" has sacado \" + scores[i])"
   ]
  },
  {
   "cell_type": "markdown",
   "metadata": {},
   "source": [
    "#### LISTAS EN LISTAS"
   ]
  },
  {
   "cell_type": "code",
   "execution_count": null,
   "metadata": {},
   "outputs": [
    {
     "name": "stdout",
     "output_type": "stream",
     "text": [
      "[[16, 15], [2, 2]]\n",
      "Cantidad de pares:  3\n",
      "Cantidad de impares:  1\n"
     ]
    }
   ],
   "source": [
    "numeros = [] #Lista vacia que terminara siendo una matriz (lista de listas)\n",
    "\n",
    "for i in range(2):  # Repite dos veces (i = 0 y 1)\n",
    "    numeros.append([]) # Crea una fila vacía\n",
    "    for j in range (2): # Repite dos veces dentro de cada fila (j = 0 y 1)\n",
    "        numeros[i].append(int(input(\"Numero: \"))) # Agrega el número digitado a la fila i\n",
    "\n",
    "# Imprimir lista dentro de lista (matriz)\n",
    "print(numeros)\n",
    "\n",
    "# Procesar lista dentro de lista\n",
    "# Se crean dos contadores: uno para los números pares y otro para los impares.\n",
    "cpares = 0\n",
    "cimpares = 0\n",
    "for i in range (2): # Recorre filas\n",
    "    for j in range (2): # Recorre columnas en cada fila\n",
    "        if numeros[i][j] % 2 == 0: # Si el número es par...\n",
    "            cpares +=1\n",
    "        else:\n",
    "            cimpares+=1\n",
    "print(\"Cantidad de pares: \", cpares)\n",
    "print(\"Cantidad de impares: \", cimpares)"
   ]
  },
  {
   "cell_type": "markdown",
   "metadata": {},
   "source": [
    "#### Diccionarios"
   ]
  },
  {
   "cell_type": "code",
   "execution_count": 59,
   "metadata": {},
   "outputs": [
    {
     "name": "stdout",
     "output_type": "stream",
     "text": [
      "Articulo:  Lapiz\n",
      "Cantidad comprada:  4\n",
      "Valor unitario:  2,500.00\n",
      "Valor articulo:  10,000.00\n",
      "Articulo:  Borrador\n",
      "Cantidad comprada:  1000\n",
      "Valor unitario:  1,200.00\n",
      "Valor articulo:  1,200,000.00\n",
      "Articulo:  Cuadernos\n",
      "Cantidad comprada:  1\n",
      "Valor unitario:  4,800.00\n",
      "Valor articulo:  4,800.00\n",
      "Valor total compras:  1,214,800.00\n"
     ]
    }
   ],
   "source": [
    "# Diccionarios\n",
    "articulos = {1:\"Lapiz\", \n",
    "             2:\"Cuadernos\",\n",
    "             3: \"Borrador\",\n",
    "             4: \"Calculadora\",\n",
    "             5: \"Escuadra\"}\n",
    "valores = {1: 2500,\n",
    "           2: 4800,\n",
    "           3: 1200,\n",
    "           4: 35000,\n",
    "           5: 3700}\n",
    "\n",
    "N = int(input(\"Cantidad de articulos comprados: \")) # Por ejemplo, si N = 3, significa que el usuario comprará 3 tipos de artículos (no cantidades individuales).\n",
    "total_compra = 0\n",
    "for i in range(N):\n",
    "    codigo = int(input(\"Codigo articulo: \")) # El código del artículo (por ejemplo: 1 para \"Lapiz\").\n",
    "    cantidad = int(input(\"Cantidad comprada: \"))  # La cantidad de unidades que compró.\n",
    "    valor_articulo=cantidad*valores.get(codigo) # Multiplica la cantidad por el valor unitario.\n",
    "    total_compra+=valor_articulo # Suma ese valor al total_compra.\n",
    "    print(\"Articulo: \", articulos.get(codigo)) # Muestra nombre del articulo\n",
    "    print(\"Cantidad comprada: \",cantidad) # Cantidad\n",
    "    print(\"Valor unitario: \",\"{:,.2f}\".format(valores.get(codigo))) # Valor unitario\n",
    "    print(\"Valor articulo: \",\"{:,.2f}\".format(valor_articulo))\n",
    "print(\"Valor total compras: \",\"{:,.2f}\".format(total_compra))"
   ]
  },
  {
   "cell_type": "code",
   "execution_count": 61,
   "metadata": {},
   "outputs": [
    {
     "name": "stdout",
     "output_type": "stream",
     "text": [
      "€\n"
     ]
    }
   ],
   "source": [
    "### Ejemplo 2:\n",
    "monedas = {\"Euro\": \"€\",\n",
    "           \"Dollar\": \"$\",\n",
    "           \"Yen\": \"¥\"}\n",
    "\n",
    "moneda = input(\"Introduce una divisa: \")\n",
    "print(monedas.get(moneda.title(),\"La divisa no esta\"))"
   ]
  },
  {
   "cell_type": "code",
   "execution_count": 69,
   "metadata": {},
   "outputs": [
    {
     "name": "stdout",
     "output_type": "stream",
     "text": [
      "juan tiene 18 anos, vive en calle 78 y su numero de telefono es 310\n"
     ]
    }
   ],
   "source": [
    "## Ejemplo 3: \n",
    "nombre = input(\"Como se llama: \")\n",
    "edad = input(\"Edad: \")\n",
    "direccion = input(\"Direccion: \")\n",
    "telefono = input(\"Telefono: \")\n",
    "persona = {\n",
    "    \"nombre\":nombre,\n",
    "    \"edad\":edad,\n",
    "    \"direccion\":direccion,\n",
    "    \"telefono\":telefono}\n",
    "print(persona['nombre'],'tiene',persona['edad'],'anos, vive en',persona['direccion'],'y su numero de telefono es',persona['telefono'])"
   ]
  },
  {
   "cell_type": "code",
   "execution_count": 70,
   "metadata": {},
   "outputs": [
    {
     "name": "stdout",
     "output_type": "stream",
     "text": [
      "4.0 Kilos de:  Manzana valen 3.2 Euros\n"
     ]
    }
   ],
   "source": [
    "## Ejemplo 3\n",
    "frutas = {'Platano':1.35,\n",
    "          'Manzana':0.8,\n",
    "          'Naranja':0.7,\n",
    "          }\n",
    "\n",
    "fruta = input(\"Que fruta quieres\").title()\n",
    "kg = float(input(\"Cuantos kilos\"))\n",
    "if fruta in frutas:\n",
    "    print(kg, \"Kilos de: \", fruta, 'valen', frutas[fruta]*kg,'Euros')\n",
    "else:\n",
    "    print(\"Lo siento, la fruta\", fruta, \"no esta disponible.\")"
   ]
  },
  {
   "cell_type": "code",
   "execution_count": null,
   "metadata": {},
   "outputs": [
    {
     "name": "stdout",
     "output_type": "stream",
     "text": [
      "24 de agosto de 2001\n"
     ]
    }
   ],
   "source": [
    "# Ejemplo 4:\n",
    "meses = {1:'enero',\n",
    "         2:'febrero',\n",
    "         3:'marzo',\n",
    "         4:'abril',\n",
    "         5:'mayo',\n",
    "         6:'junio',\n",
    "         7:'julio',\n",
    "         8:'agosto',\n",
    "         9:'septiembre',\n",
    "         10:'octubre',\n",
    "         11:'noviembre',\n",
    "         12:'diciembre'\n",
    "}\n",
    "\n",
    "fecha = input('Introduce una fecha en formato dd/mm/aaaa: ')\n",
    "fecha = fecha.split('/')\n",
    "print(fecha[0],'de',meses[int(fecha[1])],'de',fecha[2])"
   ]
  },
  {
   "cell_type": "markdown",
   "metadata": {},
   "source": [
    "## REPASO PYTHON CLASE 4 DE PROGRAMACION"
   ]
  },
  {
   "cell_type": "markdown",
   "metadata": {},
   "source": [
    "#### FUNCIONES"
   ]
  },
  {
   "cell_type": "code",
   "execution_count": 12,
   "metadata": {},
   "outputs": [
    {
     "name": "stdout",
     "output_type": "stream",
     "text": [
      "78.53750000000001\n"
     ]
    }
   ],
   "source": [
    "# Función para calcular el área de un círculo.\n",
    "# Parámetros: radius - es el radio del círculo\n",
    "def circle_area(radius):\n",
    "    pi = 3.1415\n",
    "    return pi * radius**2\n",
    "\n",
    "print(circle_area(5))  # Ejemplo de uso"
   ]
  },
  {
   "cell_type": "code",
   "execution_count": 4,
   "metadata": {},
   "outputs": [],
   "source": [
    "# Función que calcula los cuadrados de una lista de números\n",
    "# Parámetros: sample - es la lista de números\n",
    "# Devuelve una lista con los cuadrados de los números\n",
    "def square(sample):\n",
    "    return [i**2 for i in sample]"
   ]
  },
  {
   "cell_type": "code",
   "execution_count": null,
   "metadata": {},
   "outputs": [
    {
     "name": "stdout",
     "output_type": "stream",
     "text": [
      "Estadísticas básicas:\n",
      "Media: 70.50\n",
      "Varianza: 134.92\n",
      "Desviación Típica: 11.62\n"
     ]
    }
   ],
   "source": [
    "# Función auxiliar que devuelve una lista con los cuadrados de los elementos\n",
    "def square(lista): # recibe lista de numeros, devuelve una nueva lista con los cuadrados de cada número de la lista original.\n",
    "    return [x**2 for x in lista]\n",
    "\n",
    "# Función que calcula estadísticas básicas (media, varianza y desviación típica)\n",
    "def statistics(sample): #Recibe una lista de datos numéricos (sample) y calcula: media, varianza y desviacion tipica\n",
    "    stat = {} #Crea un diccionario vacío donde se guardarán las estadísticas calculadas.\n",
    "    n = len(sample)\n",
    "    media = sum(sample) / n\n",
    "    cuadrados = square(sample) #Llama a la función square() para obtener una lista con los cuadrados de los valores originales.\n",
    "    varianza = sum(cuadrados) / n - media**2 #Calcula la varianza con esta fórmula:\n",
    "    desviacion_tipica = varianza**0.5\n",
    "    stat['media'] = media #Guarda los valores en el diccionario stat con claves claras.\n",
    "    stat['varianza'] = varianza\n",
    "    stat['desviacion_tipica'] = desviacion_tipica\n",
    "    return stat # Guarda los valores en el diccionario stat con claves claras.\n",
    "# Lista de ejemplo\n",
    "datos = [60, 61, 68, 69, 95, 70]\n",
    "# Llamada a la función y print\n",
    "resultado = statistics(datos) #Llama a la función statistics() pasando la lista datos, Guarda el resultado (un diccionario) en la variable resultado.\n",
    "print(\"Estadísticas básicas:\")\n",
    "print(f\"Media: {resultado['media']:.2f}\")\n",
    "print(f\"Varianza: {resultado['varianza']:.2f}\")\n",
    "print(f\"Desviación Típica: {resultado['desviacion_tipica']:.2f}\")"
   ]
  },
  {
   "cell_type": "code",
   "execution_count": null,
   "metadata": {},
   "outputs": [
    {
     "name": "stdout",
     "output_type": "stream",
     "text": [
      "{'media': 3.0, 'varianza': 2.0, 'desviacion_tipica': 1.4142135623730951}\n",
      "Cálculo Ley de Ohm (V = I × R)\n",
      "La corriente (I) es: 0.0999099909990999 amperios\n",
      "Media: 12.9\n",
      "Mediana: 13.0\n",
      "Moda: [10]\n",
      "Desviacion: 2.808914381037628\n",
      "Varianza: 7.890000000000001\n"
     ]
    },
    {
     "name": "stderr",
     "output_type": "stream",
     "text": [
      "C:\\Users\\juan2\\AppData\\Local\\Temp\\ipykernel_26496\\963157101.py:46: FutureWarning: Unlike other reduction functions (e.g. `skew`, `kurtosis`), the default behavior of `mode` typically preserves the axis it acts along. In SciPy 1.11.0, this behavior will change: the default value of `keepdims` will become False, the `axis` over which the statistic is taken will be eliminated, and the value None will no longer be accepted. Set `keepdims` to True or False to avoid this warning.\n",
      "  mode_value = stats.mode(data).mode\n"
     ]
    }
   ],
   "source": [
    "# Ejemplo de uso\n",
    "muestra = [1, 2, 3, 4, 5]\n",
    "print(statistics(muestra))\n",
    "\"ley de ohm - hacer los calculos\"\n",
    "def calcular_voltaje(corriente, resistencia):\n",
    "    return corriente * resistencia\n",
    "def calcular_resistencia(voltaje, corriente):\n",
    "    return voltaje / corriente\n",
    "def calcular_corriente(voltaje, resistencia):\n",
    "    return voltaje / resistencia\n",
    "def main():\n",
    "    print(\"Cálculo Ley de Ohm (V = I × R)\") \n",
    "    option = input(\"¿Qué desea calcular? (v=voltaje, i=corriente, r=resistencia): \").lower()\n",
    "    if option == 'v':\n",
    "        i = float(input(\"Ingrese la corriente (I) en amperios: \"))\n",
    "        r = float(input(\"Ingrese la resistencia (R) en ohmios: \"))\n",
    "        print(f\"El voltaje (V) es: {calcular_voltaje(i, r)} voltios\")\n",
    "    elif option == 'i':\n",
    "        v = float(input(\"Ingrese el voltaje (V) en voltios: \"))\n",
    "        r = float(input(\"Ingrese la resistencia (R) en ohmios: \"))\n",
    "        print(f\"La corriente (I) es: {calcular_corriente(v, r)} amperios\")\n",
    "    elif option == 'r':\n",
    "        v = float(input(\"Ingrese el voltaje (V) en voltios: \"))\n",
    "        i = float(input(\"Ingrese la corriente (I) en amperios: \"))\n",
    "        print(f\"La resistencia (R) es: {calcular_resistencia(v, i)} ohmios\")\n",
    "    else:\n",
    "        print(\"Error: opción no válida. Use 'v', 'i' o 'r'.\")\n",
    "if __name__ == \"__main__\":\n",
    "    main()\n",
    "\n",
    "import numpy as np\n",
    "#generar datos aleatorios \n",
    "data = np.array([10,15,12,8,17,14,15,10,12,16])\n",
    "#calcular medidas descriptivas \n",
    "mean_value = np.mean(data)\n",
    "median_value = np.median(data)\n",
    "#mode [0]\n",
    "from scipy import stats\n",
    "mode_value = stats.mode(data).mode  \n",
    "std_dev = np.std(data)\n",
    "variance = np.var(data)\n",
    "#imprimir resultados\n",
    "print(f\"Media: {mean_value}\")\n",
    "print(f\"Mediana: {median_value}\")\n",
    "print(f\"Moda: {mode_value}\")\n",
    "print(f\"Desviacion: {std_dev}\")\n",
    "print(f\"Varianza: {variance}\")"
   ]
  },
  {
   "cell_type": "code",
   "execution_count": null,
   "metadata": {},
   "outputs": [
    {
     "data": {
      "image/png": "[encoded data removed]",
      "text/plain": [
       "<Figure size 640x480 with 1 Axes>"
      ]
     },
     "metadata": {},
     "output_type": "display_data"
    }
   ],
   "source": [
    "import matplotlib.pyplot as plt\n",
    "plt.hist(data,bins=10)\n",
    "plt.show()"
   ]
  },
  {
   "cell_type": "markdown",
   "metadata": {},
   "source": [
    "## REPASO PYTHON CLASE 5 DE PROGRAMACION"
   ]
  },
  {
   "cell_type": "markdown",
   "metadata": {},
   "source": [
    "1. Crear una carpeta\n",
    "2. python -m venv entorno\n",
    "3. dir\n",
    "4. Conectar la carpeta con el entorno: entorno\\Scripts\\activate\n",
    "5. pip list\n",
    "6. pip install numpy\n",
    "7. pip list\n",
    "8. code . \"Para abrir el visual studio code\""
   ]
  },
  {
   "cell_type": "code",
   "execution_count": 2,
   "metadata": {},
   "outputs": [
    {
     "data": {
      "image/png": "[encoded data removed]",
      "text/plain": [
       "<Figure size 640x480 with 1 Axes>"
      ]
     },
     "metadata": {},
     "output_type": "display_data"
    }
   ],
   "source": [
    "import numpy as np # para generar los datos aleatorios.\n",
    "import matplotlib.pyplot as plt # para graficar\n",
    "from scipy.stats import norm # permite acceder a funciones estadísticas, en este caso la función de densidad de la normal (norm.pdf).\n",
    "\n",
    "# Generar datos de una distribucion normal\n",
    "mu, sigma = 0, 1 \n",
    "# mu=0: es la media de la distribución normal.\n",
    "# sigma = 1: es la desviación estándar.\n",
    "\n",
    "data_normal = np.random.normal(mu, sigma, 1000)\n",
    "# np.random.normal(mu, sigma, 1000): genera 1000 datos aleatorios que \n",
    "# siguen una distribución normal con esos parámetros.\n",
    "\n",
    "# Visualización del histograma \n",
    "plt.hist(data_normal, bins=30, density=True, alpha=0.9, color='red')\n",
    "#plt.hist(...): crea un histograma de los datos generados.\n",
    "#bins=30: divide los datos en 30 intervalos o \"barras\".\n",
    "# density=True: linea de tendencia\n",
    "# alpha=0.7: hace las barras semi-transparentes (transparencia del 70%).\n",
    "# color='blue': define el color del histograma\n",
    "\n",
    "# Añadir la función de densidad de probabilidad\n",
    "xmin, xmax = plt.xlim() #plt.xlim(): obtiene los límites mínimo y máximo del eje x del histograma.\n",
    "x = np. linspace (xmin,xmax,100) #np.linspace(xmin, xmax, 100): genera 100 puntos equidistantes entre xmin y xmax para trazar la curva.\n",
    "p = norm.pdf(x, mu, sigma) # norm.pdf(x, mu, sigma): calcula la función de densidad de probabilidad para cada punto x usando una distribución normal con mu y sigma.\n",
    "plt.plot(x,p,'k',linewidth=5) #plt.plot(x, p, 'k', linewidth=2): dibuja la curva con línea negra ('k' = black) y grosor 2.\n",
    "\n",
    "plt.title(\"Distribucion normal: \")\n",
    "plt.xlabel(\"valor: \")\n",
    "plt.ylabel(\"Densidad de probabilidad: \")\n",
    "plt.show()"
   ]
  },
  {
   "cell_type": "markdown",
   "metadata": {},
   "source": [
    "### Correlacion y regresion"
   ]
  },
  {
   "cell_type": "code",
   "execution_count": 3,
   "metadata": {},
   "outputs": [
    {
     "name": "stdout",
     "output_type": "stream",
     "text": [
      "Coeficiente de correlacion: 0.42943758405074833\n"
     ]
    },
    {
     "data": {
      "image/png": "[encoded data removed]",
      "text/plain": [
       "<Figure size 640x480 with 1 Axes>"
      ]
     },
     "metadata": {},
     "output_type": "display_data"
    }
   ],
   "source": [
    "from scipy.stats import pearsonr, linregress\n",
    "# Generar datos para correlacion y regresion\n",
    "x = np.random.rand(100)\n",
    "y = 2 * x + 1 + np.random.randn(100) # y = 2x +1 + ruido\n",
    "\n",
    "# Calcular correlacion\n",
    "correlation_coefficient, _ = pearsonr (x,y)\n",
    "\n",
    "#calcular regresion lineal\n",
    "slope, intercept, _, _, _ = linregress(x,y)\n",
    "\n",
    "# Visualizacion\n",
    "plt.scatter(x,y, label='Datos')\n",
    "plt.plot(x, slope * x + intercept, color = \"red\", label='Regresion lineal')\n",
    "plt.title(\"Correlacion y regresion lineal: \")\n",
    "plt.xlabel(\"EYLEN\")\n",
    "plt.ylabel(\"ARENIZ\")\n",
    "plt.legend()\n",
    "plt.show\n",
    "\n",
    "print(f\"Coeficiente de correlacion: {correlation_coefficient}\")  "
   ]
  },
  {
   "cell_type": "code",
   "execution_count": 4,
   "metadata": {},
   "outputs": [
    {
     "name": "stdout",
     "output_type": "stream",
     "text": [
      "Coeficiente de correlacion: 0.4294\n",
      "Evaluacion de regresion: y = 2.0188 x + -0.0333\n"
     ]
    },
    {
     "data": {
      "image/png": "[encoded data removed]",
      "text/plain": [
       "<Figure size 640x480 with 1 Axes>"
      ]
     },
     "metadata": {},
     "output_type": "display_data"
    }
   ],
   "source": [
    "from scipy.stats import norm # permite acceder a funciones estadísticas, en este caso la función de densidad de la normal (norm.pdf).\n",
    "\n",
    "# Listas\n",
    "lista_x = [1,2,3,4,5,6,7,8,9,10]\n",
    "lista_y = [2,3.9,6.1,8.2,9.8,12.1,14.2,16.1,18.3,20]\n",
    "# Convertimos las listas a arrays de numpy para los calculos:\n",
    "x = np.array(lista_x)\n",
    "y = np.array(lista_y)\n",
    "\n",
    "# Calculamos la correlacion\n",
    "coef_correlacion, _ = pearsonr(x,y) \n",
    "\n",
    "#Calculamos la regresion lineal \n",
    "pendiente, intercepto,_,_,_ = linregress(x,y)\n",
    "\n",
    "# Visualizacion\n",
    "plt.scatter(x,y, label='Datos')\n",
    "plt.plot(x, slope * x + intercept, color = \"red\", label='Regresion lineal')\n",
    "plt.title(\"Correlacion y regresion lineal: \")\n",
    "plt.xlabel(\"LA NINA DE AL FRENTE\")\n",
    "plt.ylabel(\"ARENIZ\")\n",
    "plt.legend()\n",
    "plt.show\n",
    "print(f\"Coeficiente de correlacion: {correlation_coefficient:.4f}\")  \n",
    "print(f\"Evaluacion de regresion: y = {pendiente:.4f} x + {intercepto:.4f}\")"
   ]
  },
  {
   "cell_type": "code",
   "execution_count": 5,
   "metadata": {},
   "outputs": [
    {
     "data": {
      "image/png": "[encoded data removed]",
      "text/plain": [
       "<Figure size 640x480 with 1 Axes>"
      ]
     },
     "metadata": {},
     "output_type": "display_data"
    }
   ],
   "source": [
    "lambda_parameter = 5\n",
    "data_poisson = np.random.poisson(lambda_parameter, 1000)\n",
    "\n",
    "#visualizacion del histograma\n",
    "plt.hist(data_poisson, bins = range(0,max(data_poisson)+1),density=True, alpha=0.7,color = \"red\")\n",
    "plt.title('distribucion de poisson')\n",
    "plt.xlabel(\"Numero de eventos\")\n",
    "plt.ylabel(\"Probabilidad\")\n",
    "plt.show()"
   ]
  },
  {
   "cell_type": "code",
   "execution_count": 9,
   "metadata": {},
   "outputs": [
    {
     "data": {
      "image/png": "[encoded data removed]",
      "text/plain": [
       "<Figure size 640x480 with 1 Axes>"
      ]
     },
     "metadata": {},
     "output_type": "display_data"
    }
   ],
   "source": [
    "# Parametro de la distribucion exponencial (tasa de ocurrencia)\n",
    "lambda_parameter_exp = 0.5\n",
    "\n",
    "\n",
    "# Generara datos de la distribucion exponencial\n",
    "data_exponential = np.random.exponential(scale=1/lambda_parameter_exp,size=1000)\n",
    "\n",
    "# Visualizacion\n",
    "plt.hist(data_exponential, bins=30, density=True, alpha = 0.7, color = \"orange\")\n",
    "plt.title(\"Distribucion exponencial\")\n",
    "plt.xlabel(\"Tiempo hasta el evento\")\n",
    "plt.ylabel(\"Densidad de la probabilidad\")\n",
    "plt.show()"
   ]
  },
  {
   "cell_type": "markdown",
   "metadata": {},
   "source": [
    "TAREA: UN EJERCICIO Y EXPLICAR LA TEORIA DE CADA TEMA\n",
    "POISSO\n",
    "EXPONENCIAL\n",
    "CORRELACION\n",
    "REGRESION LINEAL\n"
   ]
  }
 ],
 "metadata": {
  "kernelspec": {
   "display_name": "base",
   "language": "python",
   "name": "python3"
  },
  "language_info": {
   "codemirror_mode": {
    "name": "ipython",
    "version": 3
   },
   "file_extension": ".py",
   "mimetype": "text/x-python",
   "name": "python",
   "nbconvert_exporter": "python",
   "pygments_lexer": "ipython3",
   "version": "3.11.3"
  }
 },
 "nbformat": 4,
 "nbformat_minor": 2
}
